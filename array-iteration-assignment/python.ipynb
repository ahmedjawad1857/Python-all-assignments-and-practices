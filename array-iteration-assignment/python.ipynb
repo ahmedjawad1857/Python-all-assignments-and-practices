{
 "cells": [
  {
   "cell_type": "markdown",
   "metadata": {},
   "source": [
    "# Array Iteration Assignment"
   ]
  },
  {
   "cell_type": "markdown",
   "metadata": {},
   "source": [
    "### Map (Double the Numbers):\n",
    "### Given an array of numbers [3, 7, 11, 15], use the map() method to create a new array containing each number doubled.\n"
   ]
  },
  {
   "cell_type": "code",
   "execution_count": 28,
   "metadata": {},
   "outputs": [
    {
     "name": "stdout",
     "output_type": "stream",
     "text": [
      "Original List: [3, 7, 11, 15]\n",
      "Doubled List: [6, 14, 22, 30]\n"
     ]
    }
   ],
   "source": [
    "# Map (Double the Numbers):\n",
    "# Given a list of numbers [3, 7, 11, 15], use the map() method to create a new list containing each number doubled.\n",
    "\n",
    "l1:list[int] = [3, 7, 11, 15]\n",
    "l2:list[int] = list(map(lambda x: x*2,l1))\n",
    "print(f\"Original List: {l1}\")\n",
    "print(f\"Doubled List: {l2}\")"
   ]
  },
  {
   "cell_type": "markdown",
   "metadata": {},
   "source": [
    "### Filter (Even Numbers):\n",
    "### Given an list of integers [4, 9, 16, 21, 30], use the filter() method to extract an list of even numbers.\n"
   ]
  },
  {
   "cell_type": "code",
   "execution_count": 9,
   "metadata": {},
   "outputs": [
    {
     "name": "stdout",
     "output_type": "stream",
     "text": [
      "Original list: [4, 9, 16, 21, 30]\n",
      "Even list: [4, 16, 30]\n"
     ]
    }
   ],
   "source": [
    "# Filter (Even Numbers):\n",
    "# Given an list of integers [4, 9, 16, 21, 30], use the filter() method to extract an list of even numbers.\n",
    "\n",
    "l1:list[int] = [4, 9, 16, 21, 30]\n",
    "l2:list[int] = list(filter(lambda x:x%2==0 and x!=0 and x >0  ,l1))\n",
    "print(f\"Original list: {l1}\")\n",
    "print(f\"Even list: {l2}\")"
   ]
  },
  {
   "cell_type": "markdown",
   "metadata": {},
   "source": [
    "### any (Positive Numbers Check):\n",
    "### Given an list of integers [-5, -3, 0, 2, 4], use the any() method to check if there's at least one positive number.\n"
   ]
  },
  {
   "cell_type": "code",
   "execution_count": 15,
   "metadata": {},
   "outputs": [
    {
     "name": "stdout",
     "output_type": "stream",
     "text": [
      "There is at least one positive number.\n"
     ]
    }
   ],
   "source": [
    "# Given an list of integers [-5, -3, 0, 2, 4], use the any() method to check if there's at least one positive number.\n",
    "\n",
    "l1:list[int] = [4, 9, 16, 21, 30]\n",
    "has_positive = any(num > 0 for num in l1)\n",
    "if has_positive:\n",
    "    print(\"There is at least one positive number.\")\n",
    "else:\n",
    "    print(\"There are no positive numbers.\")    \n"
   ]
  },
  {
   "cell_type": "markdown",
   "metadata": {},
   "source": [
    "### all (Greater than 18):\n",
    "### Given an list of ages [22, 19, 25, 30], use the all() method to verify if all ages are greater than 18.\n"
   ]
  },
  {
   "cell_type": "code",
   "execution_count": 19,
   "metadata": {},
   "outputs": [
    {
     "name": "stdout",
     "output_type": "stream",
     "text": [
      "All ages are greater than 18.\n"
     ]
    }
   ],
   "source": [
    "# all (Greater than 18):\n",
    "# Given an list of ages [22, 19, 25, 30], use the all() method to verify if all ages are greater than 18.\n",
    "\n",
    "\n",
    "ages = [22, 19, 25, 30]\n",
    "all_greater_than_18 = all(age > 18 for age in ages)\n",
    "if all_greater_than_18:\n",
    "    print(\"All ages are greater than 18.\")\n",
    "else:\n",
    "    print(\"Not all ages are greater than 18.\")"
   ]
  },
  {
   "cell_type": "markdown",
   "metadata": {},
   "source": [
    "### Reduce (Sum of Squares):\n",
    "### Given an list of numbers [2, 3, 4, 5], use the reduce() method to calculate the sum of the squares of each number.\n"
   ]
  },
  {
   "cell_type": "code",
   "execution_count": 26,
   "metadata": {},
   "outputs": [
    {
     "name": "stdout",
     "output_type": "stream",
     "text": [
      "Original list [2, 3, 4, 5]\n",
      "Sum of squares 54\n"
     ]
    }
   ],
   "source": [
    "# Reduce (Sum of Squares):\n",
    "# Given an list of numbers [2, 3, 4, 5], use the reduce() method to calculate the sum of the squares of each number.\n",
    "from functools import reduce\n",
    "l1: list[int] = [2, 3, 4, 5]\n",
    "l2: int = reduce(lambda x,y: x+y**2, l1,0)\n",
    "print(f\"Original list {l1}\")\n",
    "print(f\"Sum of squares {l2}\")\n"
   ]
  },
  {
   "cell_type": "markdown",
   "metadata": {},
   "source": [
    "### Map (String Lengths):\n",
    "### Given an list of strings ['apple', 'banana', 'cherry'], use the map() method to create a new list containing the lengths of each string.\n"
   ]
  },
  {
   "cell_type": "code",
   "execution_count": 29,
   "metadata": {},
   "outputs": [
    {
     "name": "stdout",
     "output_type": "stream",
     "text": [
      "Original List: ['apple', 'banana', 'cherry']\n",
      "Their lengths are [5, 6, 6]\n"
     ]
    }
   ],
   "source": [
    "# Map (String Lengths):\n",
    "# Given an list of strings ['apple', 'banana', 'cherry'], use the map() method to create a new list containing the lengths of each string.\n",
    "l1:list[str] = ['apple', 'banana', 'cherry']\n",
    "l2:list[int] = list(map(lambda x: len(x),l1))\n",
    "\n",
    "print(f\"Original List: {l1}\")\n",
    "print(f\"Their lengths are {l2}\")"
   ]
  },
  {
   "cell_type": "markdown",
   "metadata": {},
   "source": [
    "### Filter (Prime Numbers):\n",
    "### Given an list of integers [7, 14, 23, 30, 37], use the filter() method to extract an list of prime numbers.\n"
   ]
  },
  {
   "cell_type": "code",
   "execution_count": 33,
   "metadata": {},
   "outputs": [
    {
     "name": "stdout",
     "output_type": "stream",
     "text": [
      "Original list : [7, 14, 23, 30, 37]\n",
      "Prime number list : [7, 23, 37]\n"
     ]
    }
   ],
   "source": [
    "# Filter (Prime Numbers):\n",
    "# Given an list of integers [7, 14, 23, 30, 37], use the filter() method to extract an list of prime numbers.\n",
    "import math \n",
    "l1:list[int] = [7, 14, 23, 30, 37]\n",
    "l2:list[int] = list(filter(lambda n: n > 1 and all(n % i != 0 for i in range(2, int(math.sqrt(n)) + 1)),l1))\n",
    "print(f\"Original list : {l1}\")\n",
    "print(f\"Prime number list : {l2}\")"
   ]
  },
  {
   "cell_type": "markdown",
   "metadata": {},
   "source": [
    "### any (Even Numbers Check):\n",
    "### Given an list of integers [3, 9, 11, 14, 21], use the any() method to check if there's at least one even number.\n"
   ]
  },
  {
   "cell_type": "code",
   "execution_count": 34,
   "metadata": {},
   "outputs": [
    {
     "name": "stdout",
     "output_type": "stream",
     "text": [
      "There is at least one even number.\n"
     ]
    }
   ],
   "source": [
    "# any (Even Numbers Check):\n",
    "# Given an list of integers [3, 9, 11, 14, 21], use the any() method to check if there's at least one even number.\n",
    "\n",
    "l1:list[int] = [3, 9, 11, 14, 21]\n",
    "has_even = any(num % 2 == 0 for num in l1)\n",
    "if has_even:\n",
    "    print(\"There is at least one even number.\")\n",
    "else:\n",
    "    print(\"There are no even numbers.\")"
   ]
  },
  {
   "cell_type": "markdown",
   "metadata": {},
   "source": [
    "### all (String Lengths Check):\n",
    "### Given an list of words ['dog', 'cat', 'elephant', 'lion'], use the all() method to verify if all words have more than 3 characters.\n"
   ]
  },
  {
   "cell_type": "code",
   "execution_count": 35,
   "metadata": {},
   "outputs": [
    {
     "name": "stdout",
     "output_type": "stream",
     "text": [
      "Not all the words have more than 3 characters\n"
     ]
    }
   ],
   "source": [
    "# all (String Lengths Check):\n",
    "# Given an list of words ['dog', 'cat', 'elephant', 'lion'], use the all() method to verify if all words have more than 3 characters.\n",
    "\n",
    "l1:list[str] = [\"dog\",\"cat\",\"elephant\",\"lion\"]\n",
    "length_greater_than_3:list[str] = all(len(animal) > 3 for animal in l1)\n",
    "if length_greater_than_3:\n",
    "    print(\"All the words have more than 3 characters\")\n",
    "else:\n",
    "    print(\"Not all the words have more than 3 characters\")    \n"
   ]
  },
  {
   "cell_type": "markdown",
   "metadata": {},
   "source": [
    "### Reduce (Product of Positives):\n",
    "### Given an list of numbers [-2, 3, -4, 5, -6], use the reduce() method to calculate the product of all positive numbers.\n"
   ]
  },
  {
   "cell_type": "code",
   "execution_count": 37,
   "metadata": {},
   "outputs": [
    {
     "name": "stdout",
     "output_type": "stream",
     "text": [
      "Original list: [-2, 3, -4, 5, -6]\n",
      "Product of positive numbers: 15\n"
     ]
    }
   ],
   "source": [
    "# Reduce (Product of Positives):\n",
    "# Given an list of numbers [-2, 3, -4, 5, -6], use the reduce() method to calculate the product of all positive numbers.\n",
    "from functools import reduce\n",
    "\n",
    "l1 = [-2, 3, -4, 5, -6]\n",
    "\n",
    "# Filter positive numbers\n",
    "positive_numbers = [num for num in l1 if num > 0]\n",
    "\n",
    "# Calculate the product of positive numbers using reduce\n",
    "product_of_positives = reduce(lambda x, y: x * y, positive_numbers, 1)\n",
    "\n",
    "print(f\"Original list: {l1}\")\n",
    "print(f\"Product of positive numbers: {product_of_positives}\")\n"
   ]
  },
  {
   "cell_type": "markdown",
   "metadata": {},
   "source": [
    "### Map (Uppercase Conversion):\n",
    "### Given an list of names ['Alice', 'Bob', 'Charlie'], use the map() method to create a new list containing the names in uppercase.\n"
   ]
  },
  {
   "cell_type": "code",
   "execution_count": 39,
   "metadata": {},
   "outputs": [
    {
     "name": "stdout",
     "output_type": "stream",
     "text": [
      "Original list ['Alice', 'Bob', 'Charlie']\n",
      "After converting it to uppercase : ['ALICE', 'BOB', 'CHARLIE']\n"
     ]
    }
   ],
   "source": [
    "# Map (Uppercase Conversion):\n",
    "# Given an list of names ['Alice', 'Bob', 'Charlie'], use the map() method to create a new list containing the names in uppercase.\n",
    "\n",
    "names:list[str] = ['Alice', 'Bob', 'Charlie']\n",
    "names_to_upperCase:list[str] = list(map(lambda x:x.upper(),names))\n",
    "print(f\"Original list {names}\")\n",
    "print(f\"After converting it to uppercase : {names_to_upperCase}\")"
   ]
  },
  {
   "cell_type": "markdown",
   "metadata": {},
   "source": [
    "### Filter (Long Words):\n",
    "### Given an list of words ['apple', 'banana', 'grape', 'kiwi'], use the filter() method to extract an list of words with more than 5 characters.\n"
   ]
  },
  {
   "cell_type": "code",
   "execution_count": 42,
   "metadata": {},
   "outputs": [
    {
     "name": "stdout",
     "output_type": "stream",
     "text": [
      "Original list ['Alice', 'Bob', 'Charlie']\n",
      "List of words with more than 5 characters ['banana']\n"
     ]
    }
   ],
   "source": [
    "# Filter (Long Words):\n",
    "# Given an list of words ['apple', 'banana', 'grape', 'kiwi'], use the filter() method to extract an list of words with more than 5 characters.\n",
    "\n",
    "words:list[str] = ['apple', 'banana', 'grape', 'kiwi']\n",
    "word_more_than_5_char:list[str] = list(filter(lambda x:len(x) > 5,words))\n",
    "print(f\"Original list {names}\")\n",
    "print(f\"List of words with more than 5 characters {word_more_than_5_char}\")"
   ]
  },
  {
   "cell_type": "markdown",
   "metadata": {},
   "source": [
    "### any (Multiple of 5 Check):\n",
    "### Given an list of numbers [12, 27, 35, 42, 50], use the any() method to check if there's at least one number that's a multiple of 5.\n"
   ]
  },
  {
   "cell_type": "code",
   "execution_count": 48,
   "metadata": {},
   "outputs": [
    {
     "name": "stdout",
     "output_type": "stream",
     "text": [
      "There is at least one number that's a multiple of 5.\n"
     ]
    }
   ],
   "source": [
    "# any (Multiple of 5 Check):\n",
    "# Given an list of numbers [12, 27, 35, 42, 50], use the any() method to check if there's at least one number that's a multiple of 5.\n",
    "integer:list[int] = [12, 27, 35, 42, 50]\n",
    "check_multiple_of_5:bool = any(num % 5 == 0 for num in integer)\n",
    "\n",
    "if check_multiple_of_5:\n",
    "    print(\"There is at least one number that's a multiple of 5.\")\n",
    "else:\n",
    "    print(\"There is no number that's a multiple of 5.\")"
   ]
  },
  {
   "cell_type": "markdown",
   "metadata": {},
   "source": [
    "### all (Even Numbers Check):\n",
    "### Given an list of integers [2, 8, 16, 22, 30], use the all() method to verify if all numbers are even.\n"
   ]
  },
  {
   "cell_type": "code",
   "execution_count": 49,
   "metadata": {},
   "outputs": [
    {
     "name": "stdout",
     "output_type": "stream",
     "text": [
      "All the numbers are even.\n"
     ]
    }
   ],
   "source": [
    "# all (Even Numbers Check):\n",
    "# Given an list of integers [2, 8, 16, 22, 30], use the all() method to verify if all numbers are even.\n",
    "\n",
    "integer_number:int = [2, 8, 16, 22, 30]\n",
    "\n",
    "check_even:bool = all(num % 2 == 0 and num != 0 and num > 0 for num in integer_number)\n",
    "if check_even:\n",
    "    print(\"All the numbers are even.\")\n",
    "else:\n",
    "    print(\"Not all the numbers are even.\")"
   ]
  },
  {
   "cell_type": "markdown",
   "metadata": {},
   "source": [
    "### Reduce (Total Age):\n",
    "### Given an list of objects with names and ages [{ name: 'Alice', age: 25 }, { name: 'Bob', age: 30 }], use the reduce() method to calculate the total age of all people.\n"
   ]
  },
  {
   "cell_type": "code",
   "execution_count": 60,
   "metadata": {},
   "outputs": [
    {
     "name": "stdout",
     "output_type": "stream",
     "text": [
      "Original list : [{'name': 'Alice', 'age': 25}, {'name': 'Bob', 'age': 30}]\n",
      "sum of age of persons present in list : 55\n"
     ]
    }
   ],
   "source": [
    "# Reduce (Total Age):\n",
    "# Given an list of objects with names and ages [{ name: 'Alice', age: 25 }, { name: 'Bob', age: 30 }], use the reduce() method to calculate the total age of all people.\n",
    "from typing import Union\n",
    "from functools import reduce\n",
    "persons:list[dict[str,Union[str,int]]] = [{ \"name\": 'Alice', \"age\": 25 }, { \"name\": 'Bob', \"age\": 30 }]\n",
    "total_age:int = reduce(lambda acc, person: acc + person[\"age\"],persons,  0)\n",
    "print(f\"Original list : {persons}\")\n",
    "print(f\"sum of age of persons present in list : {total_age}\")"
   ]
  }
 ],
 "metadata": {
  "kernelspec": {
   "display_name": "python12",
   "language": "python",
   "name": "python3"
  },
  "language_info": {
   "codemirror_mode": {
    "name": "ipython",
    "version": 3
   },
   "file_extension": ".py",
   "mimetype": "text/x-python",
   "name": "python",
   "nbconvert_exporter": "python",
   "pygments_lexer": "ipython3",
   "version": "3.12.0"
  }
 },
 "nbformat": 4,
 "nbformat_minor": 2
}
